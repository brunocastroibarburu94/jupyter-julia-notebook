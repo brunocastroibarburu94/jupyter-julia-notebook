{
 "cells": [
  {
   "cell_type": "code",
   "execution_count": null,
   "id": "5241b802-d4fb-4a08-b925-a85f429996fb",
   "metadata": {},
   "outputs": [],
   "source": []
  }
 ],
 "metadata": {
  "kernelspec": {
   "display_name": "Julia 1.8.5",
   "language": "julia",
   "name": "julia-1.8"
  },
  "language_info": {
   "file_extension": ".jl",
   "mimetype": "application/julia",
   "name": "julia",
   "version": "1.8.5"
  }
 },
 "nbformat": 4,
 "nbformat_minor": 5
}
