{
 "cells": [
  {
   "cell_type": "code",
   "execution_count": null,
   "id": "8c7b6c06-2801-4411-8c81-827c95731bd6",
   "metadata": {},
   "outputs": [],
   "source": [
    "using Pkg;Pkg.activate(\"./julia\");"
   ]
  },
  {
   "cell_type": "code",
   "execution_count": null,
   "id": "6452d323-baa2-4214-b75f-1fd30fb6ffb3",
   "metadata": {},
   "outputs": [],
   "source": [
    "Pkg.status()"
   ]
  },
  {
   "cell_type": "code",
   "execution_count": null,
   "id": "945ce472-5a28-4d28-8f72-472594b08f8e",
   "metadata": {},
   "outputs": [],
   "source": [
    "Pkg.add(\"DataFrames\")"
   ]
  }
 ],
 "metadata": {
  "kernelspec": {
   "display_name": "Julia 1.8.5",
   "language": "julia",
   "name": "julia-1.8"
  },
  "language_info": {
   "file_extension": ".jl",
   "mimetype": "application/julia",
   "name": "julia",
   "version": "1.8.5"
  }
 },
 "nbformat": 4,
 "nbformat_minor": 5
}
